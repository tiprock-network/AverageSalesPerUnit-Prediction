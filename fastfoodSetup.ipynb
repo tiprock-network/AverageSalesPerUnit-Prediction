{
 "cells": [
  {
   "cell_type": "code",
   "execution_count": 8,
   "metadata": {},
   "outputs": [],
   "source": [
    "import pandas as pd\n",
    "import numpy as np\n",
    "import matplotlib.pyplot as plt"
   ]
  },
  {
   "cell_type": "code",
   "execution_count": 32,
   "metadata": {},
   "outputs": [
    {
     "data": {
      "text/html": [
       "<div>\n",
       "<style scoped>\n",
       "    .dataframe tbody tr th:only-of-type {\n",
       "        vertical-align: middle;\n",
       "    }\n",
       "\n",
       "    .dataframe tbody tr th {\n",
       "        vertical-align: top;\n",
       "    }\n",
       "\n",
       "    .dataframe thead th {\n",
       "        text-align: right;\n",
       "    }\n",
       "</style>\n",
       "<table border=\"1\" class=\"dataframe\">\n",
       "  <thead>\n",
       "    <tr style=\"text-align: right;\">\n",
       "      <th></th>\n",
       "      <th>Fast-Food Chains</th>\n",
       "      <th>U.S. Systemwide Sales (Millions - U.S Dollars)</th>\n",
       "      <th>Average Sales per Unit (Thousands - U.S Dollars)</th>\n",
       "      <th>Franchised Stores</th>\n",
       "      <th>Company Stores</th>\n",
       "      <th>2021 Total Units</th>\n",
       "      <th>Total Change in Units from 2020</th>\n",
       "    </tr>\n",
       "  </thead>\n",
       "  <tbody>\n",
       "    <tr>\n",
       "      <th>0</th>\n",
       "      <td>Arby’s</td>\n",
       "      <td>4462</td>\n",
       "      <td>1309</td>\n",
       "      <td>2293</td>\n",
       "      <td>1116</td>\n",
       "      <td>3409</td>\n",
       "      <td>40</td>\n",
       "    </tr>\n",
       "    <tr>\n",
       "      <th>1</th>\n",
       "      <td>Baskin-Robbins</td>\n",
       "      <td>686</td>\n",
       "      <td>296</td>\n",
       "      <td>2317</td>\n",
       "      <td>0</td>\n",
       "      <td>2317</td>\n",
       "      <td>102</td>\n",
       "    </tr>\n",
       "    <tr>\n",
       "      <th>2</th>\n",
       "      <td>Bojangles</td>\n",
       "      <td>1485</td>\n",
       "      <td>1924</td>\n",
       "      <td>496</td>\n",
       "      <td>277</td>\n",
       "      <td>773</td>\n",
       "      <td>15</td>\n",
       "    </tr>\n",
       "    <tr>\n",
       "      <th>3</th>\n",
       "      <td>Burger King</td>\n",
       "      <td>10033</td>\n",
       "      <td>1470</td>\n",
       "      <td>7054</td>\n",
       "      <td>51</td>\n",
       "      <td>7105</td>\n",
       "      <td>24</td>\n",
       "    </tr>\n",
       "    <tr>\n",
       "      <th>4</th>\n",
       "      <td>Carl’s Jr.</td>\n",
       "      <td>1560</td>\n",
       "      <td>1400</td>\n",
       "      <td>1011</td>\n",
       "      <td>47</td>\n",
       "      <td>1058</td>\n",
       "      <td>-21</td>\n",
       "    </tr>\n",
       "  </tbody>\n",
       "</table>\n",
       "</div>"
      ],
      "text/plain": [
       "  Fast-Food Chains  U.S. Systemwide Sales (Millions - U.S Dollars)  \\\n",
       "0           Arby’s                                            4462   \n",
       "1   Baskin-Robbins                                             686   \n",
       "2        Bojangles                                            1485   \n",
       "3      Burger King                                           10033   \n",
       "4       Carl’s Jr.                                            1560   \n",
       "\n",
       "   Average Sales per Unit (Thousands - U.S Dollars)  Franchised Stores  \\\n",
       "0                                              1309               2293   \n",
       "1                                               296               2317   \n",
       "2                                              1924                496   \n",
       "3                                              1470               7054   \n",
       "4                                              1400               1011   \n",
       "\n",
       "   Company Stores  2021 Total Units  Total Change in Units from 2020  \n",
       "0            1116              3409                               40  \n",
       "1               0              2317                              102  \n",
       "2             277               773                               15  \n",
       "3              51              7105                               24  \n",
       "4              47              1058                              -21  "
      ]
     },
     "execution_count": 32,
     "metadata": {},
     "output_type": "execute_result"
    }
   ],
   "source": [
    "dataset=pd.read_csv('fastfoodUSA.csv')\n",
    "dataset.head()\n"
   ]
  },
  {
   "cell_type": "code",
   "execution_count": 108,
   "metadata": {},
   "outputs": [
    {
     "name": "stdout",
     "output_type": "stream",
     "text": [
      "[[ 1116  2293]\n",
      " [    0  2317]\n",
      " [  277   496]\n",
      " [   51  7054]\n",
      " [   47  1011]\n",
      " [  266   568]\n",
      " [   82  2650]\n",
      " [ 2966     0]\n",
      " [  161   731]\n",
      " [    6   831]\n",
      " [    2  4337]\n",
      " [  294   306]\n",
      " [  375  6185]\n",
      " [    0  9244]\n",
      " [  189   292]\n",
      " [   39  1101]\n",
      " [  479   911]\n",
      " [   29   391]\n",
      " [  198  1536]\n",
      " [  370     0]\n",
      " [  163  2055]\n",
      " [   13  2087]\n",
      " [   41  2616]\n",
      " [   47  3906]\n",
      " [  307    51]\n",
      " [  580  3601]\n",
      " [   45   957]\n",
      " [   33   472]\n",
      " [  663 12775]\n",
      " [    1   658]\n",
      " [ 2187   147]\n",
      " [  950  1130]\n",
      " [  600  2564]\n",
      " [   27  1213]\n",
      " [   22  6526]\n",
      " [   41  2716]\n",
      " [  333   406]\n",
      " [  544    23]\n",
      " [  218    25]\n",
      " [  320  3232]\n",
      " [ 8953  6497]\n",
      " [    0 21147]\n",
      " [  462  6540]\n",
      " [    0   637]\n",
      " [    1  1038]\n",
      " [  403  5535]\n",
      " [  742   131]\n",
      " [  349     0]\n",
      " [   36  1498]\n",
      " [  147   761]]\n",
      "[1309  296 1924 1470 1400 1145 6100 2641  870 3099 1036 1551 1317 1127\n",
      " 2000  909 3172 1842 1117 3200 1843 1145  866 1408 4000 1000  934 1866\n",
      " 3420 1073 2173 2700 1147  643 1022 1867 1006 4893 3679 1643 1200  438\n",
      " 1823 1200 1009 1895 3640 1749 1592 2484]\n"
     ]
    }
   ],
   "source": [
    "\n",
    "X=np.array(dataset[['Company Stores','Franchised Stores']])\n",
    "print(X)\n",
    "y=np.array(dataset['Average Sales per Unit (Thousands - U.S Dollars)'])\n",
    "print(y)"
   ]
  },
  {
   "cell_type": "code",
   "execution_count": 77,
   "metadata": {},
   "outputs": [
    {
     "data": {
      "image/png": "[encoded data removed]",
      "text/plain": [
       "<Figure size 432x288 with 1 Axes>"
      ]
     },
     "metadata": {
      "needs_background": "light"
     },
     "output_type": "display_data"
    }
   ],
   "source": [
    "%matplotlib inline\n",
    "x_dataset=np.array(dataset['Company Stores'])\n",
    "\n",
    "plt.scatter(x_dataset,y,marker='X',c='r',label='Data Points')\n",
    "plt.title('Company Store vs Average Sales')\n",
    "plt.ylabel('Average Sales Per Unit')\n",
    "plt.xlabel('Number of Company Stores')\n",
    "plt.legend()\n",
    "plt.show()"
   ]
  },
  {
   "cell_type": "code",
   "execution_count": 78,
   "metadata": {},
   "outputs": [
    {
     "data": {
      "image/png": "[encoded data removed]",
      "text/plain": [
       "<Figure size 432x288 with 1 Axes>"
      ]
     },
     "metadata": {
      "needs_background": "light"
     },
     "output_type": "display_data"
    }
   ],
   "source": [
    "%matplotlib inline\n",
    "x_dataset=np.array(dataset['Franchised Stores'])\n",
    "\n",
    "plt.scatter(x_dataset,y,marker='X',c='b',label='Data Points')\n",
    "plt.title('Franchise Store vs Average Sales')\n",
    "plt.ylabel('Average Sales Per Unit')\n",
    "plt.xlabel('Number of Franchised Stores')\n",
    "plt.legend()\n",
    "plt.show()"
   ]
  },
  {
   "cell_type": "code",
   "execution_count": 109,
   "metadata": {},
   "outputs": [
    {
     "name": "stdout",
     "output_type": "stream",
     "text": [
      "[[  462  6540]\n",
      " [  147   761]\n",
      " [   45   957]\n",
      " [   41  2616]\n",
      " [    0  9244]\n",
      " [    0 21147]\n",
      " [   29   391]\n",
      " [  403  5535]\n",
      " [  307    51]\n",
      " [   47  3906]\n",
      " [   47  1011]\n",
      " [   27  1213]\n",
      " [  189   292]\n",
      " [ 2187   147]\n",
      " [    2  4337]\n",
      " [  663 12775]\n",
      " [    1  1038]\n",
      " [   22  6526]\n",
      " [  198  1536]\n",
      " [  163  2055]\n",
      " [  580  3601]\n",
      " [   82  2650]\n",
      " [ 2966     0]\n",
      " [  349     0]\n",
      " [    0  2317]\n",
      " [  479   911]\n",
      " [ 1116  2293]\n",
      " [   39  1101]\n",
      " [  266   568]\n",
      " [  294   306]\n",
      " [    6   831]\n",
      " [  161   731]\n",
      " [  375  6185]\n",
      " [    0   637]\n",
      " [  544    23]]\n",
      "[[  33  472]\n",
      " [  41 2716]\n",
      " [8953 6497]\n",
      " [ 218   25]\n",
      " [ 277  496]\n",
      " [  51 7054]\n",
      " [  36 1498]\n",
      " [   1  658]\n",
      " [ 742  131]\n",
      " [ 950 1130]\n",
      " [ 600 2564]\n",
      " [ 320 3232]\n",
      " [  13 2087]\n",
      " [ 333  406]\n",
      " [ 370    0]]\n",
      "[1823 2484  934  866 1127  438 1842 1895 4000 1408 1400  643 2000 2173\n",
      " 1036 3420 1009 1022 1117 1843 1000 6100 2641 1749  296 3172 1309  909\n",
      " 1145 1551 3099  870 1317 1200 4893]\n",
      "[1866 1867 1200 3679 1924 1470 1592 1073 3640 2700 1147 1643 1145 1006\n",
      " 3200]\n"
     ]
    }
   ],
   "source": [
    "from sklearn.model_selection import train_test_split\n",
    "train_x,test_x,train_y,test_y=train_test_split(X,y,test_size=0.3,random_state=1)\n",
    "print(train_x)\n",
    "print(test_x)\n",
    "print(train_y)\n",
    "print(test_y)"
   ]
  },
  {
   "cell_type": "code",
   "execution_count": 110,
   "metadata": {},
   "outputs": [
    {
     "name": "stdout",
     "output_type": "stream",
     "text": [
      "[ 33 472]: 1795.723784958194\n",
      "[  41 2716]: 1706.7318528708224\n",
      "[8953 6497]: 5158.66966141773\n",
      "[218  25]: 1888.9788910167313\n",
      "[277 496]: 1893.50205601335\n",
      "[  51 7054]: 1532.484463673345\n",
      "[  36 1498]: 1754.768719121265\n",
      "[  1 658]: 1775.1262963496497\n",
      "[742 131]: 2096.7234281312326\n",
      "[ 950 1130]: 2139.8566130320523\n",
      "[ 600 2564]: 1939.2474536890409\n",
      "[ 320 3232]: 1798.455613222522\n",
      "[  13 2087]: 1721.250581720852\n",
      "[333 406]: 1919.8684307144501\n",
      "[370   0]: 1951.5319544025724\n"
     ]
    }
   ],
   "source": [
    "from sklearn.linear_model import LinearRegression\n",
    "prediction_model=LinearRegression()\n",
    "prediction_model.fit(train_x,train_y)\n",
    "yhat=prediction_model.predict(test_x)\n",
    "\n",
    "for i in range(len(yhat)):\n",
    "    print(f\"{test_x[i]}: {yhat[i]}\")\n",
    "\n"
   ]
  },
  {
   "cell_type": "code",
   "execution_count": 113,
   "metadata": {},
   "outputs": [
    {
     "name": "stdout",
     "output_type": "stream",
     "text": [
      "Average Sales per Unit for 2317 Franchised Stores and O Company stores is: $2739.625603305249\n"
     ]
    }
   ],
   "source": [
    "#my prediction\n",
    "pred=prediction_model.predict(np.array([[2317,0]]))\n",
    "print(f\"Average Sales per Unit for 2317 Franchised Stores and O Company stores is: ${pred[0]}\")"
   ]
  }
 ],
 "metadata": {
  "kernelspec": {
   "display_name": "Python 3",
   "language": "python",
   "name": "python3"
  },
  "language_info": {
   "codemirror_mode": {
    "name": "ipython",
    "version": 3
   },
   "file_extension": ".py",
   "mimetype": "text/x-python",
   "name": "python",
   "nbconvert_exporter": "python",
   "pygments_lexer": "ipython3",
   "version": "3.10.5"
  },
  "orig_nbformat": 4,
  "vscode": {
   "interpreter": {
    "hash": "5b65f58aac08ef7a7032cc93a81d82c2e49bff9fbe70de5f6ea40a0cab91e5f6"
   }
  }
 },
 "nbformat": 4,
 "nbformat_minor": 2
}
